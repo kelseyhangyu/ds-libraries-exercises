{
 "cells": [
  {
   "cell_type": "markdown",
   "id": "5744b2b4",
   "metadata": {},
   "source": [
    "# Lecture Notes #\n",
    "\n",
    "pandas: build off of numpy, but does different things\n",
    " - pd.Series() : can be arithmetic, comparison, string\n",
    "    - must have the same datatype\n",
    " - pd.df(): dataframes\n",
    "methods change the data, attributes describe the data\n",
    "Series: 0indexes, rows"
   ]
  },
  {
   "cell_type": "code",
   "execution_count": null,
   "id": "b2bfa196",
   "metadata": {},
   "outputs": [],
   "source": [
    "a = np.array([1,1.5,5,7,8,9,5])\n"
   ]
  },
  {
   "cell_type": "code",
   "execution_count": null,
   "id": "240d309e",
   "metadata": {},
   "outputs": [],
   "source": [
    "import numpy as np\n",
    "import pandas as pd"
   ]
  },
  {
   "cell_type": "code",
   "execution_count": null,
   "id": "16698fee",
   "metadata": {},
   "outputs": [],
   "source": [
    "a = pd.Series(a)"
   ]
  },
  {
   "cell_type": "code",
   "execution_count": null,
   "id": "c694051a",
   "metadata": {},
   "outputs": [],
   "source": [
    "a.describe()"
   ]
  },
  {
   "cell_type": "code",
   "execution_count": null,
   "id": "4f5782c6",
   "metadata": {},
   "outputs": [],
   "source": [
    "a[a<5]"
   ]
  },
  {
   "cell_type": "code",
   "execution_count": null,
   "id": "b4c26162",
   "metadata": {},
   "outputs": [],
   "source": [
    "a.value_counts()"
   ]
  },
  {
   "cell_type": "code",
   "execution_count": null,
   "id": "0b64f803",
   "metadata": {},
   "outputs": [],
   "source": [
    "a.count()"
   ]
  },
  {
   "cell_type": "code",
   "execution_count": null,
   "id": "8bb28d4f",
   "metadata": {},
   "outputs": [],
   "source": [
    "a[a<7].count()"
   ]
  },
  {
   "cell_type": "code",
   "execution_count": null,
   "id": "08ddbdb6",
   "metadata": {},
   "outputs": [],
   "source": [
    "a.apply(minus, args = [10])"
   ]
  },
  {
   "cell_type": "markdown",
   "id": "e915d829",
   "metadata": {},
   "source": [
    "# ------------------- NOTES --------------------- #\n",
    "\n",
    "From a list, array, dictionary:\n",
    "\n",
    "    - myseries = pd.Series(<list or array or dictionary>)\n",
    "\n",
    "From existing dataframe:\n",
    "\n",
    "    - myseries = df['col_for_series']\n",
    "    - myseries = df.col_for_series\n",
    "\n",
    "Pandas will infer datatypes\n",
    " - You can change datatypes upon creating the series pd.Series(mylist).astype('int') or later using \"astype(x)\" where x can be 'float', 'int', 'str', e.g. myseries.astype('str')\n",
    " \n",
    "astype('str') will show the series dtype = object.\n"
   ]
  },
  {
   "cell_type": "code",
   "execution_count": null,
   "id": "05036e71",
   "metadata": {},
   "outputs": [],
   "source": [
    "# ------------- from a list ----------------------#"
   ]
  },
  {
   "cell_type": "code",
   "execution_count": null,
   "id": "65379824",
   "metadata": {},
   "outputs": [],
   "source": [
    "from pydataset import data"
   ]
  },
  {
   "cell_type": "code",
   "execution_count": null,
   "id": "bb073e7d",
   "metadata": {},
   "outputs": [],
   "source": [
    "my_list = [2.2, 3.56, 5.89]\n",
    "my_series = pd.Series(my_list)\n",
    "type(my_series)"
   ]
  },
  {
   "cell_type": "code",
   "execution_count": null,
   "id": "f748ae0a",
   "metadata": {},
   "outputs": [],
   "source": [
    "my_series = my_series[my_series!=5]\n",
    "my_series"
   ]
  },
  {
   "cell_type": "code",
   "execution_count": null,
   "id": "8d343153",
   "metadata": {},
   "outputs": [],
   "source": [
    "my_series.astype('int')"
   ]
  },
  {
   "cell_type": "code",
   "execution_count": null,
   "id": "e8948169",
   "metadata": {},
   "outputs": [],
   "source": [
    "# ------------------ from an array ----------------------- #"
   ]
  },
  {
   "cell_type": "code",
   "execution_count": null,
   "id": "5f206538",
   "metadata": {},
   "outputs": [],
   "source": [
    "my_array = np.array([8.0, 13.0, 21.0])\n",
    "\n",
    "# create series from array\n",
    "my_series = pd.Series(my_array)\n",
    "\n",
    "type(my_series)\n"
   ]
  },
  {
   "cell_type": "code",
   "execution_count": null,
   "id": "5493fd81",
   "metadata": {},
   "outputs": [],
   "source": [
    "# ------------------- from a dictionary --------------------- #"
   ]
  },
  {
   "cell_type": "code",
   "execution_count": null,
   "id": "a5366a57",
   "metadata": {},
   "outputs": [],
   "source": [
    "labeled_series = pd.Series({'a' : 0, 'b' : 1.5, 'c' : 2, 'd': 3.5, 'e': 4, 'f': 5.5})\n",
    "labeled_series"
   ]
  },
  {
   "cell_type": "code",
   "execution_count": null,
   "id": "b76752ed",
   "metadata": {},
   "outputs": [],
   "source": [
    "# ---------------- from a dataframe -------------------- #"
   ]
  },
  {
   "cell_type": "code",
   "execution_count": null,
   "id": "4bb6a5b3",
   "metadata": {},
   "outputs": [],
   "source": [
    "sleep_df = data('sleepstudy')\n",
    "sleep_df.head()"
   ]
  },
  {
   "cell_type": "code",
   "execution_count": null,
   "id": "07b86ae0",
   "metadata": {},
   "outputs": [],
   "source": [
    "sleep_series = sleep_df['Reaction']\n",
    "sleep_series"
   ]
  },
  {
   "cell_type": "code",
   "execution_count": null,
   "id": "612a1324",
   "metadata": {},
   "outputs": [],
   "source": [
    "my_dataframe_that_resembles_a_series = sleep_df[['Reaction']]\n",
    "my_dataframe_that_resembles_a_series\n"
   ]
  },
  {
   "cell_type": "code",
   "execution_count": null,
   "id": "8a14b8f7",
   "metadata": {},
   "outputs": [],
   "source": [
    "# -------------- Vectorized Operations --------------- #"
   ]
  },
  {
   "cell_type": "code",
   "execution_count": null,
   "id": "5c0269a2",
   "metadata": {},
   "outputs": [],
   "source": [
    "fibi_series = pd.Series([0, 1, 1, 2, 3, 5, 8])\n",
    "fibi_series + 1"
   ]
  },
  {
   "cell_type": "code",
   "execution_count": null,
   "id": "e6cc239b",
   "metadata": {},
   "outputs": [],
   "source": [
    "fibi_series.index"
   ]
  },
  {
   "cell_type": "code",
   "execution_count": null,
   "id": "a0f07f3d",
   "metadata": {},
   "outputs": [],
   "source": [
    "fibi_series.values # The values are stored in a NumPy array. Hello vectorized operations!"
   ]
  },
  {
   "cell_type": "code",
   "execution_count": null,
   "id": "fcb9b9e6",
   "metadata": {},
   "outputs": [],
   "source": [
    "fibi_series.dtype"
   ]
  },
  {
   "cell_type": "code",
   "execution_count": null,
   "id": "50ea872f",
   "metadata": {},
   "outputs": [],
   "source": [
    "fibi_series.name = 'Fibonacci'"
   ]
  },
  {
   "cell_type": "code",
   "execution_count": null,
   "id": "f870660a",
   "metadata": {},
   "outputs": [],
   "source": [
    "fibi_series.size #returns how many rows, including null values"
   ]
  },
  {
   "cell_type": "code",
   "execution_count": null,
   "id": "1593aaae",
   "metadata": {},
   "outputs": [],
   "source": [
    "fibi_series.shape #returns rows AND columns. (7, ) means this is a 1D structure"
   ]
  },
  {
   "cell_type": "code",
   "execution_count": null,
   "id": "06fa6e7f",
   "metadata": {},
   "outputs": [],
   "source": [
    "# ---------------- series method ----------------- #"
   ]
  },
  {
   "cell_type": "code",
   "execution_count": null,
   "id": "4cecfd02",
   "metadata": {},
   "outputs": [],
   "source": [
    "fibi_series.head() #returns first 5 rows"
   ]
  },
  {
   "cell_type": "code",
   "execution_count": null,
   "id": "ac329877",
   "metadata": {},
   "outputs": [],
   "source": [
    "fibi_series.tail() #returns last 5 rows"
   ]
  },
  {
   "cell_type": "code",
   "execution_count": null,
   "id": "8ed474d3",
   "metadata": {},
   "outputs": [],
   "source": [
    "sleep_df = data('sleepstudy')\n",
    "sleep_days_series = sleep_df.Days\n",
    "sleep_days_series.sample(5)"
   ]
  },
  {
   "cell_type": "code",
   "execution_count": null,
   "id": "40044201",
   "metadata": {},
   "outputs": [],
   "source": [
    "sleep_days_series.value_counts()"
   ]
  },
  {
   "cell_type": "code",
   "execution_count": null,
   "id": "29eeff26",
   "metadata": {},
   "outputs": [],
   "source": [
    "sleep_days_series.describe()"
   ]
  },
  {
   "cell_type": "code",
   "execution_count": null,
   "id": "95b826a2",
   "metadata": {},
   "outputs": [],
   "source": [
    "fibi_series.nlargest(n=3, keep='first') #the 'keep='parameter determines how to handle the duplicate\n",
    "#first: only keep the first occurence\n",
    "#last: only keep the last occurence\n",
    "#all: keep all duplicates"
   ]
  },
  {
   "cell_type": "code",
   "execution_count": null,
   "id": "669613a5",
   "metadata": {},
   "outputs": [],
   "source": [
    "sleep_days_series.sort_values(ascending=True)# ascending = True is default and doesn't need to be included. "
   ]
  },
  {
   "cell_type": "code",
   "execution_count": null,
   "id": "7ed7cafa",
   "metadata": {},
   "outputs": [],
   "source": [
    "sleep_days_series.sort_index(ascending=False)"
   ]
  },
  {
   "cell_type": "markdown",
   "id": "de9d295d",
   "metadata": {},
   "source": [
    "#  ---------------------------- EXCERCISES PART I ------------------------------ #"
   ]
  },
  {
   "cell_type": "code",
   "execution_count": null,
   "id": "a896bd2e",
   "metadata": {},
   "outputs": [],
   "source": [
    "fruits = pd.Series([\"kiwi\", \"mango\", \"strawberry\", \"pineapple\", \"gala apple\", \"honeycrisp apple\", \"tomato\", \"watermelon\", \"honeydew\", \"kiwi\", \"kiwi\", \"kiwi\", \"mango\", \"blueberry\", \"blackberry\", \"gooseberry\", \"papaya\"])"
   ]
  },
  {
   "cell_type": "code",
   "execution_count": null,
   "id": "23d16b61",
   "metadata": {},
   "outputs": [],
   "source": [
    "# 1.Determine the number of elements in fruits.\n",
    "fruits.count()"
   ]
  },
  {
   "cell_type": "code",
   "execution_count": null,
   "id": "28dfd10a",
   "metadata": {},
   "outputs": [],
   "source": [
    "# 2.Output only the index from fruits.\n",
    "list(fruits.index)"
   ]
  },
  {
   "cell_type": "code",
   "execution_count": null,
   "id": "9832a638",
   "metadata": {},
   "outputs": [],
   "source": [
    "# 3. Output only the values from fruits.\n",
    "fruits.values"
   ]
  },
  {
   "cell_type": "code",
   "execution_count": null,
   "id": "0b188453",
   "metadata": {},
   "outputs": [],
   "source": [
    "# 4. Confirm the data type of the values in fruits.\n",
    "fruits.dtype # string is the most powerful datatype, if you have 1 string in a dataset the whole dataset will be string"
   ]
  },
  {
   "cell_type": "code",
   "execution_count": null,
   "id": "59c4dd86",
   "metadata": {},
   "outputs": [],
   "source": [
    "# 5. Output only the first five values from fruits. Output the last three values. Output two random values from fruits.\n",
    "fruits.head()\n",
    "fruits.tail(3)\n",
    "fruits.sample(2)\n",
    "\n"
   ]
  },
  {
   "cell_type": "code",
   "execution_count": null,
   "id": "d218c871",
   "metadata": {},
   "outputs": [],
   "source": [
    "# 6. Run the .describe() on fruits to see what information it returns when called on a Series with string values.\n",
    "fruits.describe()"
   ]
  },
  {
   "cell_type": "code",
   "execution_count": null,
   "id": "83a4cdab",
   "metadata": {},
   "outputs": [],
   "source": [
    "# 7. Run the code necessary to produce only the unique string values from fruits.\n",
    "fruits.unique()"
   ]
  },
  {
   "cell_type": "code",
   "execution_count": null,
   "id": "681e1621",
   "metadata": {},
   "outputs": [],
   "source": [
    "# 8. Determine how many times each unique string value occurs in fruits.\n",
    "fruits.value_counts()"
   ]
  },
  {
   "cell_type": "code",
   "execution_count": null,
   "id": "6c81a408",
   "metadata": {},
   "outputs": [],
   "source": [
    "# 9. Determine the string value that occurs most frequently in fruits.\n",
    "fruits.value_counts().sort_values (ascending = False)\n",
    "#fruits.value_counts().head(1)"
   ]
  },
  {
   "cell_type": "code",
   "execution_count": null,
   "id": "66f0f269",
   "metadata": {},
   "outputs": [],
   "source": [
    "# 10. Determine the string value that occurs least frequently in fruits.\n",
    "fruits.value_counts().sort_values (ascending = True)"
   ]
  },
  {
   "cell_type": "markdown",
   "id": "dd6d169a",
   "metadata": {},
   "source": [
    "# -------------------------- NOTES: SERIES PART II -----------------------------#"
   ]
  },
  {
   "cell_type": "code",
   "execution_count": null,
   "id": "2a94de12",
   "metadata": {},
   "outputs": [],
   "source": [
    "pi_series = pd.Series([3, 1, 4, 1, 5, 9, 2, 6, 5, 3, 5])\n",
    "pi_series > 5\n",
    "pi_series[pi_series > 5]"
   ]
  },
  {
   "cell_type": "code",
   "execution_count": null,
   "id": "463d4d63",
   "metadata": {},
   "outputs": [],
   "source": [
    "pi_series[(pi_series % 2 == 0) | (pi_series > 5)] # Find the numbers that are even or greater than 5"
   ]
  },
  {
   "cell_type": "code",
   "execution_count": null,
   "id": "06f0f570",
   "metadata": {},
   "outputs": [],
   "source": [
    "pi_series[(pi_series % 2 == 0) & (pi_series < 5)] # Find the numbers that are even AND less than 5"
   ]
  },
  {
   "cell_type": "code",
   "execution_count": null,
   "id": "e35ac8b2",
   "metadata": {},
   "outputs": [],
   "source": [
    "sleep_df = data('sleepstudy')\n",
    "sleep_reaction_time_series = sleep_df.Reaction\n",
    "sleep_reaction_time_series.describe()\n",
    "\n",
    "sleep_reaction_minutes_series = sleep_reaction_time_series/60 # let's change the units from seconds to minutes for interpretability\n",
    "\n",
    "type(sleep_reaction_minutes_series.describe()) # it's a series!\n"
   ]
  },
  {
   "cell_type": "code",
   "execution_count": null,
   "id": "8055bf77",
   "metadata": {},
   "outputs": [],
   "source": [
    "q3 = sleep_reaction_minutes_series.describe()['75%']\n",
    "q3"
   ]
  },
  {
   "cell_type": "code",
   "execution_count": null,
   "id": "a1a994ac",
   "metadata": {},
   "outputs": [],
   "source": [
    "sleep_reaction_minutes_series[sleep_reaction_minutes_series > q3].head() \n",
    "#Subset the series to the 4th quartile only, using that value in a conditional statement (where 'values' > 'q3')"
   ]
  },
  {
   "cell_type": "code",
   "execution_count": null,
   "id": "cd108490",
   "metadata": {},
   "outputs": [],
   "source": [
    "ds_team_series = pd.Series(['Adam', 'Adam', 'Andrew', 'Carina', 'John', 'John', \n",
    "                            'Madeleine', 'Misty', 'Margaret', 'Ryan', 'Tasha'\n",
    "                           ])\n",
    "\n",
    "ds_team_series.str.lower()"
   ]
  },
  {
   "cell_type": "code",
   "execution_count": null,
   "id": "496bdfb5",
   "metadata": {},
   "outputs": [],
   "source": [
    "ds_team_series = ds_team_series.str.replace('rgaret', 'ggie')\n",
    "ds_team_series"
   ]
  },
  {
   "cell_type": "code",
   "execution_count": null,
   "id": "65041301",
   "metadata": {},
   "outputs": [],
   "source": [
    "string_series = pd.Series(['Hello', 'CodeuP', 'StUDenTs'])\n",
    "string_series.str.lower()"
   ]
  },
  {
   "cell_type": "code",
   "execution_count": null,
   "id": "4e120afc",
   "metadata": {},
   "outputs": [],
   "source": [
    "string_series.str.lower().str.replace('e', '_') # Since each method returns a Series, I can use method chaining like this."
   ]
  },
  {
   "cell_type": "code",
   "execution_count": null,
   "id": "a47bd1c5",
   "metadata": {},
   "outputs": [],
   "source": [
    "string_series[string_series.str.lower().str.startswith('h')] # I can even use method chaining and indexing!"
   ]
  },
  {
   "cell_type": "code",
   "execution_count": null,
   "id": "70f79bd1",
   "metadata": {},
   "outputs": [],
   "source": [
    "(fibi_series > 3).any() #returns a single boolean...do any values in the series meet the condition"
   ]
  },
  {
   "cell_type": "code",
   "execution_count": null,
   "id": "55fbecf0",
   "metadata": {},
   "outputs": [],
   "source": [
    "(fibi_series > 3).all() #returns a single boolean...do all values in the series meet the condition"
   ]
  },
  {
   "cell_type": "code",
   "execution_count": null,
   "id": "606960f5",
   "metadata": {},
   "outputs": [],
   "source": [
    "# Use `isin()` to tell whether each value is in a set of known values. \n",
    "vowels = list('aeiouy')\n",
    "letters_series = pd.Series(list('abcdefghijkeliminnow'))\n",
    "                           \n",
    "letters_series.isin(vowels).value_counts()"
   ]
  },
  {
   "cell_type": "code",
   "execution_count": null,
   "id": "b821425a",
   "metadata": {},
   "outputs": [],
   "source": [
    "# .apply(function)\n",
    "\n",
    "\n",
    "def even_or_odd(n):\n",
    "    '''\n",
    "    this function takes a number and returns a string indicating \n",
    "    whether the passed number is even or odd\n",
    "    '''\n",
    "    if n % 2 == 0:\n",
    "        return 'even'\n",
    "    else:\n",
    "        return 'odd'\n",
    "\n",
    "fibi_series.apply(even_or_odd)\n"
   ]
  },
  {
   "cell_type": "code",
   "execution_count": null,
   "id": "43f87077",
   "metadata": {},
   "outputs": [],
   "source": [
    "# lambda arguments: expression"
   ]
  },
  {
   "cell_type": "markdown",
   "id": "44626390",
   "metadata": {},
   "source": [
    "# ---------------------- EXERCISES PART II -------------------------- #"
   ]
  },
  {
   "cell_type": "code",
   "execution_count": null,
   "id": "0c7dcaa5",
   "metadata": {},
   "outputs": [],
   "source": [
    "#1 Capitalize all the string values in fruits.\n",
    "fruits.str.upper()"
   ]
  },
  {
   "cell_type": "code",
   "execution_count": null,
   "id": "a4f25b1d",
   "metadata": {},
   "outputs": [],
   "source": [
    "#2 Count the letter \"a\" in all the string values (use string vectorization).\n",
    "fruits.str.count('a')"
   ]
  },
  {
   "cell_type": "code",
   "execution_count": null,
   "id": "46c673b0",
   "metadata": {},
   "outputs": [],
   "source": [
    "#3 Output the number of vowels in each and every string value.\n",
    "\n",
    "def vowel_ornot (word):\n",
    "    vowel = list('aeiou')\n",
    "    return len([char for char in word if char in vowels])\n",
    "\n",
    "fruits.apply(vowel_ornot)\n"
   ]
  },
  {
   "cell_type": "code",
   "execution_count": null,
   "id": "0004c3e1",
   "metadata": {},
   "outputs": [],
   "source": [
    "#4 Write the code to get the longest string value from fruits.\n",
    "fruits[fruits.str.len() == fruits.str.len().max()]\n",
    "# or\n",
    "max(fruits, key = len)\n"
   ]
  },
  {
   "cell_type": "code",
   "execution_count": null,
   "id": "07072bce",
   "metadata": {},
   "outputs": [],
   "source": [
    "#5 Write the code to get the string values with 5 or more letters in the name.\n",
    "fruits[fruits.str.len() >=5]"
   ]
  },
  {
   "cell_type": "code",
   "execution_count": null,
   "id": "fa221255",
   "metadata": {},
   "outputs": [],
   "source": [
    "#6 Find the fruit(s) containing the letter \"o\" two or more times.\n",
    "def fruits_o (string):\n",
    "    return [char for char in string if char in ('o')]\n",
    "fruits_with_o=fruits.apply(fruits_o)\n",
    "fruits_with_o[fruits_with_o.str.len()>=2]\n",
    "fruits[[6,15]]\n",
    "# or\n",
    "fruits[fruits.str.lower().str.count('o') >= 2] #the sandwich method where you use \"str\" before EACH conditions"
   ]
  },
  {
   "cell_type": "code",
   "execution_count": null,
   "id": "42aa5f18",
   "metadata": {},
   "outputs": [],
   "source": [
    "#7 Write the code to get only the string values containing the substring \"berry\"\n",
    "fruits[fruits.str.lower().str.contains('berry')]"
   ]
  },
  {
   "cell_type": "code",
   "execution_count": null,
   "id": "14d294ee",
   "metadata": {},
   "outputs": [],
   "source": [
    "#8 Write the code to get only the string values containing the substring \"apple\".\n",
    "fruits[fruits.str.lower().str.contains('apple')]"
   ]
  },
  {
   "cell_type": "code",
   "execution_count": null,
   "id": "fb4e0ffb",
   "metadata": {},
   "outputs": [],
   "source": [
    "#9 Which string value contains the most vowels?\n",
    "fruits[fruits.apply(vowel_ornot).sort_values(ascending = False)]\n",
    "\n",
    "fruits[fruits.str.count('a|e|i|o|u') == max(fruits.str.count('a|e|i|o|u'))]\n",
    "\n",
    "fruits[fruits.str.count('a|e|i|o|u').sort_values(ascending = False)]"
   ]
  },
  {
   "cell_type": "markdown",
   "id": "24958dbe",
   "metadata": {},
   "source": [
    "# -------------------------- NOTES: SERIES PART III -----------------------------#"
   ]
  },
  {
   "cell_type": "code",
   "execution_count": null,
   "id": "33f1e6d4",
   "metadata": {},
   "outputs": [],
   "source": [
    "# create bins of equal intervals\n",
    "reaction_bins_series = pd.cut(sleep_reaction_minutes_series, 4)\n",
    "reaction_bins_series.value_counts()\n",
    "# specify bins to create\n",
    "reaction_bins_series = pd.cut(sleep_reaction_minutes_series, [3, 4, 5, 6, 7, 8])\n",
    "reaction_bins_series.value_counts()\n",
    "sleep_reaction_minutes_series.value_counts(bins=5)"
   ]
  },
  {
   "cell_type": "code",
   "execution_count": null,
   "id": "dbe05d0c",
   "metadata": {},
   "outputs": [],
   "source": [
    "# Matplotlib is choosing the plot for us here, and it \n",
    "# might tell the story we want.\n",
    "\n",
    "nums_series = pd.Series([1, 5, 5, 5, 10, 20, 100, 40])\n",
    "nums_series.plot()\n",
    "# So, here we specify the type of plot we would like \n",
    "# Matplotlib to use.\n",
    "nums_series.plot.hist()\n"
   ]
  },
  {
   "cell_type": "code",
   "execution_count": null,
   "id": "0ced960e",
   "metadata": {},
   "outputs": [],
   "source": [
    "# Use the parameters of the .plot method to customize my chart.\n",
    "\n",
    "(\n",
    "    pd.Series(['a', 'b', 'a', 'c', 'b', 'a', 'd', 'a']).\n",
    "    value_counts().plot.bar(title='Example Pandas Visualization', \n",
    "                            rot=0, \n",
    "                            color='firebrick', \n",
    "                            ec='black',\n",
    "                            width=.9).set(xlabel='Letter',\n",
    "                            ylabel='Frequency')\n",
    ")\n"
   ]
  },
  {
   "cell_type": "markdown",
   "id": "b88cfb3f",
   "metadata": {},
   "source": [
    "# ---------------------------- EXERCISES PART III ------------------------------#"
   ]
  },
  {
   "cell_type": "code",
   "execution_count": null,
   "id": "cb565298",
   "metadata": {},
   "outputs": [],
   "source": [
    "letters = pd.Series(list('hnvidduckkqxwymbimkccexbkmqygkxoyndmcxnwqarhyffsjpsrabtjzsypmzadfavyrnndndvswreauxovncxtwzpwejilzjrmmbbgbyxvjtewqthafnbkqplarokkyydtubbmnexoypulzwfhqvckdpqtpoppzqrmcvhhpwgjwupgzhiofohawytlsiyecuproguy'))\n",
    "letters"
   ]
  },
  {
   "cell_type": "code",
   "execution_count": null,
   "id": "ca9ea03b",
   "metadata": {},
   "outputs": [],
   "source": [
    "# 1. Which letter occurs the most frequently in the letters Series?\n",
    "# 2. Which letter occurs the Least frequently?\n",
    "\n",
    "letters.value_counts()\n",
    "letters.value_counts().idxmax().upper()\n",
    "letters.value_counts().idxmin().upper()"
   ]
  },
  {
   "cell_type": "code",
   "execution_count": null,
   "id": "1d894004",
   "metadata": {},
   "outputs": [],
   "source": [
    "# 3. How many vowels are in the Series?\n",
    "\n",
    "def is_vowel(char):\n",
    "    return char in 'aeiou'\n",
    "\n",
    "letters.apply(is_vowel).sum()\n",
    "\n",
    "#or\n",
    "letters.str.count('a|e|i|o|u').sum()"
   ]
  },
  {
   "cell_type": "code",
   "execution_count": null,
   "id": "768c8334",
   "metadata": {},
   "outputs": [],
   "source": [
    "# 4. How many consonants are in the Series?\n",
    "\n",
    "def count_vowels(some_word):\n",
    "    return some_word not in list('aeiou')\n",
    "\n",
    "letters.apply(count_vowels).sum()\n",
    "\n",
    "# or\n",
    "\n",
    "# operator to negate my count_vowels function\n",
    "(~letters.str.lower().apply(count_vowels)).sum()\n",
    "# 166 consonants"
   ]
  },
  {
   "cell_type": "code",
   "execution_count": null,
   "id": "e9c9270d",
   "metadata": {},
   "outputs": [],
   "source": [
    "# 5. Create a Series that has all of the same letters but uppercased.\n",
    "\n",
    "letters.str.upper()"
   ]
  },
  {
   "cell_type": "code",
   "execution_count": null,
   "id": "469cc9b1",
   "metadata": {},
   "outputs": [],
   "source": [
    "# 6. Create a bar plot of the frequencies of the 6 most commonly occuring letters.\n",
    "\n",
    "# 6 most commonly occuring letters\n",
    "sixMost = letters.value_counts().nlargest(n=6)\n",
    "\n",
    "import matplotlib.pyplot as plt\n",
    "\n",
    "# one way to plot\n",
    "plt.bar(sixMost.index,sixMost.values)\n",
    "\n",
    "plt.show() # removes object output"
   ]
  },
  {
   "cell_type": "code",
   "execution_count": null,
   "id": "83b8e3c6",
   "metadata": {},
   "outputs": [],
   "source": [
    "# horizontal bar chart\n",
    "\n",
    "# another way more explictly calling the plot() function using kind keyword argument\n",
    "letters.value_counts().head(6).plot(kind='barh')\n",
    "plt.title('Six most commonly occuring letters in our string')\n",
    "plt.show()"
   ]
  },
  {
   "cell_type": "code",
   "execution_count": 5,
   "id": "3537ee57",
   "metadata": {},
   "outputs": [],
   "source": [
    "import pandas as pd"
   ]
  },
  {
   "cell_type": "code",
   "execution_count": 6,
   "id": "1c5b90e2",
   "metadata": {},
   "outputs": [
    {
     "data": {
      "text/plain": [
       "0       $796,459.41\n",
       "1           $278.60\n",
       "2       $482,571.67\n",
       "3     $4,503,915.98\n",
       "4      $2,121,418.3\n",
       "5      $1,260,813.3\n",
       "6        $87,231.01\n",
       "7     $1,509,175.45\n",
       "8     $4,138,548.00\n",
       "9     $2,848,913.80\n",
       "10      $594,715.39\n",
       "11    $4,789,988.17\n",
       "12     $4,513,644.5\n",
       "13    $3,191,059.97\n",
       "14    $1,758,712.24\n",
       "15    $4,338,283.54\n",
       "16    $4,738,303.38\n",
       "17    $2,791,759.67\n",
       "18      $769,681.94\n",
       "19      $452,650.23\n",
       "dtype: object"
      ]
     },
     "execution_count": 6,
     "metadata": {},
     "output_type": "execute_result"
    }
   ],
   "source": [
    "n = pd.Series(['$796,459.41', '$278.60', '$482,571.67', '$4,503,915.98', '$2,121,418.3', '$1,260,813.3', '$87,231.01', '$1,509,175.45', '$4,138,548.00', '$2,848,913.80', '$594,715.39', '$4,789,988.17', '$4,513,644.5', '$3,191,059.97', '$1,758,712.24', '$4,338,283.54', '$4,738,303.38', '$2,791,759.67', '$769,681.94', '$452,650.23'])\n",
    "n"
   ]
  },
  {
   "cell_type": "code",
   "execution_count": 7,
   "id": "7285835b",
   "metadata": {},
   "outputs": [
    {
     "data": {
      "text/plain": [
       "dtype('O')"
      ]
     },
     "execution_count": 7,
     "metadata": {},
     "output_type": "execute_result"
    }
   ],
   "source": [
    "#1. What is the data type of the numbers Series?\n",
    "n.dtypes"
   ]
  },
  {
   "cell_type": "code",
   "execution_count": 8,
   "id": "07b70c67",
   "metadata": {},
   "outputs": [
    {
     "name": "stdout",
     "output_type": "stream",
     "text": [
      "<class 'pandas.core.series.Series'>\n",
      "RangeIndex: 20 entries, 0 to 19\n",
      "Series name: None\n",
      "Non-Null Count  Dtype \n",
      "--------------  ----- \n",
      "20 non-null     object\n",
      "dtypes: object(1)\n",
      "memory usage: 292.0+ bytes\n"
     ]
    }
   ],
   "source": [
    "#2. How many elements are in the number Series?\n",
    "n.info()"
   ]
  },
  {
   "cell_type": "code",
   "execution_count": 11,
   "id": "d670e634",
   "metadata": {},
   "outputs": [
    {
     "data": {
      "text/plain": [
       "dtype('float64')"
      ]
     },
     "execution_count": 11,
     "metadata": {},
     "output_type": "execute_result"
    }
   ],
   "source": [
    "#3. Perform the necessary manipulations by accessing Series attributes and methods \n",
    "# to convert the numbers Series to a numeric data type.\n",
    "\n",
    "new = n.str.replace('$','').str.replace(',','').astype('float')\n",
    "new.dtypes"
   ]
  },
  {
   "cell_type": "code",
   "execution_count": 12,
   "id": "c0f91077",
   "metadata": {},
   "outputs": [
    {
     "data": {
      "text/plain": [
       "4789988.17"
      ]
     },
     "execution_count": 12,
     "metadata": {},
     "output_type": "execute_result"
    }
   ],
   "source": [
    "#4.Run the code to discover the maximum value from the Series.\n",
    "new.max()"
   ]
  },
  {
   "cell_type": "code",
   "execution_count": 13,
   "id": "38f691bd",
   "metadata": {},
   "outputs": [
    {
     "data": {
      "text/plain": [
       "278.6"
      ]
     },
     "execution_count": 13,
     "metadata": {},
     "output_type": "execute_result"
    }
   ],
   "source": [
    "#5.Run the code to discover the minimum value from the Series.\n",
    "new.min()\n",
    "min(new)"
   ]
  },
  {
   "cell_type": "code",
   "execution_count": 14,
   "id": "30e507c1",
   "metadata": {},
   "outputs": [
    {
     "name": "stdout",
     "output_type": "stream",
     "text": [
      "278.6 , 4789988.17\n"
     ]
    }
   ],
   "source": [
    "#6.What is the range of the values in the Series?\n",
    "print(min(new),',', max(new))"
   ]
  },
  {
   "cell_type": "code",
   "execution_count": 15,
   "id": "e237b730",
   "metadata": {},
   "outputs": [
    {
     "data": {
      "text/plain": [
       "(-4511.11, 1197705.993]       7\n",
       "(1197705.993, 2395133.385]    4\n",
       "(2395133.385, 3592560.778]    3\n",
       "(3592560.778, 4789988.17]     6\n",
       "Name: count, dtype: int64"
      ]
     },
     "execution_count": 15,
     "metadata": {},
     "output_type": "execute_result"
    }
   ],
   "source": [
    "#7.Bin the data into 4 equally sized intervals or bins and output how many values fall into each bin.\n",
    "pd.cut(new,bins=4).value_counts().sort_index()"
   ]
  },
  {
   "cell_type": "code",
   "execution_count": 20,
   "id": "a188aed5",
   "metadata": {},
   "outputs": [
    {
     "data": {
      "text/plain": [
       "Text(0, 0.5, '[$ bins]')"
      ]
     },
     "execution_count": 20,
     "metadata": {},
     "output_type": "execute_result"
    },
    {
     "data": {
      "image/png": "[encoded data removed]",
      "text/plain": [
       "<Figure size 640x480 with 1 Axes>"
      ]
     },
     "metadata": {},
     "output_type": "display_data"
    }
   ],
   "source": [
    "#8.Plot the binned data in a meaningful way. Be sure to include a title and axis labels.\n",
    "import matplotlib.pyplot as plt\n",
    "pd.cut(new,bins=4).value_counts().sort_index().plot(kind = 'barh')\n",
    "plt.title('Series Composition After Binning')\n",
    "plt.xlabel('[Count]')\n",
    "plt.ylabel('[$ bins]')"
   ]
  },
  {
   "cell_type": "code",
   "execution_count": 21,
   "id": "fad145ac",
   "metadata": {},
   "outputs": [
    {
     "data": {
      "text/plain": [
       "dtype('int64')"
      ]
     },
     "execution_count": 21,
     "metadata": {},
     "output_type": "execute_result"
    }
   ],
   "source": [
    "exam_scores = pd.Series([60, 86, 75, 62, 93, 71, 60, 83, 95, 78, 65, 72, 69, 81, 96, 80, 85, 92, 82, 78])\n",
    "exam_scores.dtypes"
   ]
  },
  {
   "cell_type": "code",
   "execution_count": 22,
   "id": "198c57a0",
   "metadata": {},
   "outputs": [
    {
     "data": {
      "text/plain": [
       "20"
      ]
     },
     "execution_count": 22,
     "metadata": {},
     "output_type": "execute_result"
    }
   ],
   "source": [
    "#1.How many elements are in the exam_scores Series?\n",
    "exam_scores.size"
   ]
  },
  {
   "cell_type": "code",
   "execution_count": 23,
   "id": "13fa20c0",
   "metadata": {},
   "outputs": [
    {
     "data": {
      "text/plain": [
       "count    20.000000\n",
       "mean     78.150000\n",
       "std      11.352139\n",
       "min      60.000000\n",
       "25%      70.500000\n",
       "50%      79.000000\n",
       "75%      85.250000\n",
       "max      96.000000\n",
       "dtype: float64"
      ]
     },
     "execution_count": 23,
     "metadata": {},
     "output_type": "execute_result"
    }
   ],
   "source": [
    "#2.Run the code to discover the minimum, the maximum, the mean, and the median scores for the exam_scores Series.\n",
    "exam_scores.describe()"
   ]
  },
  {
   "cell_type": "code",
   "execution_count": 24,
   "id": "9c668300",
   "metadata": {},
   "outputs": [
    {
     "data": {
      "image/png": "[encoded data removed]",
      "text/plain": [
       "<Figure size 640x480 with 1 Axes>"
      ]
     },
     "metadata": {},
     "output_type": "display_data"
    }
   ],
   "source": [
    "#3.Plot the Series in a meaningful way and make sure your chart has a title and axis labels.\n",
    "exam_scores.plot(kind='hist',edgecolor='k')\n",
    "plt.title('Distribution of Exam Scores')\n",
    "plt.xlabel('Scores')\n",
    "plt.show()"
   ]
  },
  {
   "cell_type": "code",
   "execution_count": 25,
   "id": "af917665",
   "metadata": {},
   "outputs": [
    {
     "name": "stdout",
     "output_type": "stream",
     "text": [
      "Original Grades:\n",
      " 0     60\n",
      "1     86\n",
      "2     75\n",
      "3     62\n",
      "4     93\n",
      "5     71\n",
      "6     60\n",
      "7     83\n",
      "8     95\n",
      "9     78\n",
      "10    65\n",
      "11    72\n",
      "12    69\n",
      "13    81\n",
      "14    96\n",
      "15    80\n",
      "16    85\n",
      "17    92\n",
      "18    82\n",
      "19    78\n",
      "dtype: int64\n",
      "\n",
      "Curved Grades:\n",
      " 0      64\n",
      "1      90\n",
      "2      79\n",
      "3      66\n",
      "4      97\n",
      "5      75\n",
      "6      64\n",
      "7      87\n",
      "8      99\n",
      "9      82\n",
      "10     69\n",
      "11     76\n",
      "12     73\n",
      "13     85\n",
      "14    100\n",
      "15     84\n",
      "16     89\n",
      "17     96\n",
      "18     86\n",
      "19     82\n",
      "dtype: int64\n"
     ]
    }
   ],
   "source": [
    "#4.Write the code necessary to implement a curve for your exam_grades Series and save this as curved_grades. \n",
    "# Add the necessary points to the highest grade to make it 100, \n",
    "# and add the same number of points to every other score in the Series as well.\n",
    "pts_to_add = 100 - exam_scores.max()\n",
    "\n",
    "\n",
    "print(f'Original Grades:\\n {exam_scores}')\n",
    "\n",
    "curved_grades = exam_scores + pts_to_add\n",
    "\n",
    "print(f'\\nCurved Grades:\\n {curved_grades}')\n"
   ]
  },
  {
   "cell_type": "code",
   "execution_count": 27,
   "id": "5a6c4fa3",
   "metadata": {},
   "outputs": [
    {
     "data": {
      "text/plain": [
       "'B'"
      ]
     },
     "execution_count": 27,
     "metadata": {},
     "output_type": "execute_result"
    }
   ],
   "source": [
    "#5.Use a method to convert each of the numeric values in the curved_grades Series \n",
    "#into a categorical value of letter grades. For example, \n",
    "#86 should be a 'B' and 95 should be an 'A'. Save this as a Series named letter_grades.\n",
    "\n",
    "import function_exercises as f\n",
    "\n",
    "f.get_letter_grade(86)\n"
   ]
  },
  {
   "cell_type": "code",
   "execution_count": 28,
   "id": "125e25f8",
   "metadata": {},
   "outputs": [
    {
     "data": {
      "text/plain": [
       "0     D\n",
       "1     A\n",
       "2     C\n",
       "3     D\n",
       "4     A\n",
       "5     C\n",
       "6     D\n",
       "7     B\n",
       "8     A\n",
       "9     B\n",
       "10    D\n",
       "11    C\n",
       "12    C\n",
       "13    B\n",
       "14    A\n",
       "15    B\n",
       "16    B\n",
       "17    A\n",
       "18    B\n",
       "19    B\n",
       "dtype: category\n",
       "Categories (5, object): ['F' < 'D' < 'C' < 'B' < 'A']"
      ]
     },
     "execution_count": 28,
     "metadata": {},
     "output_type": "execute_result"
    }
   ],
   "source": [
    "\n",
    "# or\n",
    "# using cut() function argurmnets\n",
    "bin_edges = [0, 59, 69, 79, 89,100]\n",
    "bin_labels = ['F', 'D', 'C', 'B', 'A']\n",
    "letter_grades = pd.cut(curved_grades, bins=bin_edges, labels=bin_labels)\n",
    "letter_grades\n"
   ]
  },
  {
   "cell_type": "code",
   "execution_count": null,
   "id": "d229c218",
   "metadata": {},
   "outputs": [],
   "source": [
    "#6. Plot your new categorical letter_grades Series in a meaninful way and include a title and axis labels."
   ]
  },
  {
   "cell_type": "code",
   "execution_count": 29,
   "id": "47c23de2",
   "metadata": {},
   "outputs": [
    {
     "data": {
      "image/png": "[encoded data removed]",
      "text/plain": [
       "<Figure size 640x480 with 1 Axes>"
      ]
     },
     "metadata": {},
     "output_type": "display_data"
    }
   ],
   "source": [
    "letter_grades.value_counts().sort_index().plot.barh()\n",
    "plt.title('Curved Letter Grade Distribution')\n",
    "plt.show()"
   ]
  }
 ],
 "metadata": {
  "kernelspec": {
   "display_name": "Python 3 (ipykernel)",
   "language": "python",
   "name": "python3"
  },
  "language_info": {
   "codemirror_mode": {
    "name": "ipython",
    "version": 3
   },
   "file_extension": ".py",
   "mimetype": "text/x-python",
   "name": "python",
   "nbconvert_exporter": "python",
   "pygments_lexer": "ipython3",
   "version": "3.11.5"
  }
 },
 "nbformat": 4,
 "nbformat_minor": 5
}
