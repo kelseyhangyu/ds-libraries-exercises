{
 "cells": [
  {
   "cell_type": "markdown",
   "id": "728f903b",
   "metadata": {},
   "source": [
    "# Lecture Notes #\n",
    "\n",
    "pandas: build off of numpy, but does different things\n",
    " - pd.Series() : can be arithmetic, comparison, string\n",
    "    - must have the same datatype\n",
    " - pd.df(): dataframes\n",
    "methods change the data, attributes describe the data\n",
    "Series: 0indexes, rows"
   ]
  },
  {
   "cell_type": "code",
   "execution_count": 25,
   "id": "53d5fc12",
   "metadata": {},
   "outputs": [],
   "source": [
    "a = np.array([1,1.5,5,7,8,9,5])\n"
   ]
  },
  {
   "cell_type": "code",
   "execution_count": 12,
   "id": "56caecbb",
   "metadata": {},
   "outputs": [],
   "source": [
    "import numpy as np\n",
    "import pandas as pd"
   ]
  },
  {
   "cell_type": "code",
   "execution_count": 26,
   "id": "ffe533a7",
   "metadata": {},
   "outputs": [],
   "source": [
    "a = pd.Series(a)"
   ]
  },
  {
   "cell_type": "code",
   "execution_count": 28,
   "id": "a6918842",
   "metadata": {},
   "outputs": [
    {
     "data": {
      "text/plain": [
       "count    7.000000\n",
       "mean     5.214286\n",
       "std      3.080275\n",
       "min      1.000000\n",
       "25%      3.250000\n",
       "50%      5.000000\n",
       "75%      7.500000\n",
       "max      9.000000\n",
       "dtype: float64"
      ]
     },
     "execution_count": 28,
     "metadata": {},
     "output_type": "execute_result"
    }
   ],
   "source": [
    "a.describe()"
   ]
  },
  {
   "cell_type": "code",
   "execution_count": 22,
   "id": "982607b5",
   "metadata": {},
   "outputs": [
    {
     "data": {
      "text/plain": [
       "0    1.0\n",
       "1    1.5\n",
       "dtype: float64"
      ]
     },
     "execution_count": 22,
     "metadata": {},
     "output_type": "execute_result"
    }
   ],
   "source": [
    "a[a<5]"
   ]
  },
  {
   "cell_type": "code",
   "execution_count": 27,
   "id": "68631e00",
   "metadata": {},
   "outputs": [
    {
     "data": {
      "text/plain": [
       "5.0    2\n",
       "1.0    1\n",
       "1.5    1\n",
       "7.0    1\n",
       "8.0    1\n",
       "9.0    1\n",
       "Name: count, dtype: int64"
      ]
     },
     "execution_count": 27,
     "metadata": {},
     "output_type": "execute_result"
    }
   ],
   "source": [
    "a.value_counts()"
   ]
  },
  {
   "cell_type": "code",
   "execution_count": 29,
   "id": "4bff7c80",
   "metadata": {},
   "outputs": [
    {
     "data": {
      "text/plain": [
       "7"
      ]
     },
     "execution_count": 29,
     "metadata": {},
     "output_type": "execute_result"
    }
   ],
   "source": [
    "a.count()"
   ]
  },
  {
   "cell_type": "code",
   "execution_count": 31,
   "id": "fac966a8",
   "metadata": {},
   "outputs": [
    {
     "data": {
      "text/plain": [
       "4"
      ]
     },
     "execution_count": 31,
     "metadata": {},
     "output_type": "execute_result"
    }
   ],
   "source": [
    "a[a<7].count()"
   ]
  },
  {
   "cell_type": "code",
   "execution_count": null,
   "id": "249df355",
   "metadata": {},
   "outputs": [],
   "source": [
    "a.apply(minus, args = [10])"
   ]
  },
  {
   "cell_type": "markdown",
   "id": "e5216b2a",
   "metadata": {},
   "source": [
    "# ------------------- NOTES --------------------- #\n",
    "\n",
    "From a list, array, dictionary:\n",
    "\n",
    "    - myseries = pd.Series(<list or array or dictionary>)\n",
    "\n",
    "From existing dataframe:\n",
    "\n",
    "    - myseries = df['col_for_series']\n",
    "    - myseries = df.col_for_series\n",
    "\n",
    "Pandas will infer datatypes\n",
    " - You can change datatypes upon creating the series pd.Series(mylist).astype('int') or later using \"astype(x)\" where x can be 'float', 'int', 'str', e.g. myseries.astype('str')\n",
    " \n",
    "astype('str') will show the series dtype = object.\n"
   ]
  },
  {
   "cell_type": "code",
   "execution_count": null,
   "id": "cc90a49b",
   "metadata": {},
   "outputs": [],
   "source": [
    "# ------------- from a list ----------------------#"
   ]
  },
  {
   "cell_type": "code",
   "execution_count": 32,
   "id": "cf90c1ff",
   "metadata": {},
   "outputs": [
    {
     "name": "stdout",
     "output_type": "stream",
     "text": [
      "initiated datasets repo at: /Users/kelseyyu/.pydataset/\n"
     ]
    }
   ],
   "source": [
    "from pydataset import data"
   ]
  },
  {
   "cell_type": "code",
   "execution_count": 52,
   "id": "dd9e6de4",
   "metadata": {},
   "outputs": [
    {
     "data": {
      "text/plain": [
       "pandas.core.series.Series"
      ]
     },
     "execution_count": 52,
     "metadata": {},
     "output_type": "execute_result"
    }
   ],
   "source": [
    "my_list = [2.2, 3.56, 5.89]\n",
    "my_series = pd.Series(my_list)\n",
    "type(my_series)"
   ]
  },
  {
   "cell_type": "code",
   "execution_count": 51,
   "id": "1810e6e6",
   "metadata": {},
   "outputs": [
    {
     "data": {
      "text/plain": [
       "0    2\n",
       "1    3\n",
       "dtype: int64"
      ]
     },
     "execution_count": 51,
     "metadata": {},
     "output_type": "execute_result"
    }
   ],
   "source": [
    "my_series = my_series[my_series!=5]\n",
    "my_series"
   ]
  },
  {
   "cell_type": "code",
   "execution_count": 53,
   "id": "26593f54",
   "metadata": {},
   "outputs": [
    {
     "data": {
      "text/plain": [
       "0    2\n",
       "1    3\n",
       "2    5\n",
       "dtype: int64"
      ]
     },
     "execution_count": 53,
     "metadata": {},
     "output_type": "execute_result"
    }
   ],
   "source": [
    "my_series.astype('int')"
   ]
  },
  {
   "cell_type": "code",
   "execution_count": null,
   "id": "1c9d11af",
   "metadata": {},
   "outputs": [],
   "source": [
    "# ------------------ from an array ----------------------- #"
   ]
  },
  {
   "cell_type": "code",
   "execution_count": 37,
   "id": "0d730da5",
   "metadata": {},
   "outputs": [
    {
     "data": {
      "text/plain": [
       "pandas.core.series.Series"
      ]
     },
     "execution_count": 37,
     "metadata": {},
     "output_type": "execute_result"
    }
   ],
   "source": [
    "my_array = np.array([8.0, 13.0, 21.0])\n",
    "\n",
    "# create series from array\n",
    "my_series = pd.Series(my_array)\n",
    "\n",
    "type(my_series)\n"
   ]
  },
  {
   "cell_type": "code",
   "execution_count": null,
   "id": "34f805e5",
   "metadata": {},
   "outputs": [],
   "source": [
    "# ------------------- from a dictionary --------------------- #"
   ]
  },
  {
   "cell_type": "code",
   "execution_count": 38,
   "id": "ea88a191",
   "metadata": {},
   "outputs": [
    {
     "data": {
      "text/plain": [
       "a    0.0\n",
       "b    1.5\n",
       "c    2.0\n",
       "d    3.5\n",
       "e    4.0\n",
       "f    5.5\n",
       "dtype: float64"
      ]
     },
     "execution_count": 38,
     "metadata": {},
     "output_type": "execute_result"
    }
   ],
   "source": [
    "labeled_series = pd.Series({'a' : 0, 'b' : 1.5, 'c' : 2, 'd': 3.5, 'e': 4, 'f': 5.5})\n",
    "labeled_series"
   ]
  },
  {
   "cell_type": "code",
   "execution_count": null,
   "id": "8262c529",
   "metadata": {},
   "outputs": [],
   "source": [
    "# ---------------- from a dataframe -------------------- #"
   ]
  },
  {
   "cell_type": "code",
   "execution_count": 39,
   "id": "66ccb674",
   "metadata": {},
   "outputs": [
    {
     "data": {
      "text/html": [
       "<div>\n",
       "<style scoped>\n",
       "    .dataframe tbody tr th:only-of-type {\n",
       "        vertical-align: middle;\n",
       "    }\n",
       "\n",
       "    .dataframe tbody tr th {\n",
       "        vertical-align: top;\n",
       "    }\n",
       "\n",
       "    .dataframe thead th {\n",
       "        text-align: right;\n",
       "    }\n",
       "</style>\n",
       "<table border=\"1\" class=\"dataframe\">\n",
       "  <thead>\n",
       "    <tr style=\"text-align: right;\">\n",
       "      <th></th>\n",
       "      <th>Reaction</th>\n",
       "      <th>Days</th>\n",
       "      <th>Subject</th>\n",
       "    </tr>\n",
       "  </thead>\n",
       "  <tbody>\n",
       "    <tr>\n",
       "      <th>1</th>\n",
       "      <td>249.5600</td>\n",
       "      <td>0</td>\n",
       "      <td>308</td>\n",
       "    </tr>\n",
       "    <tr>\n",
       "      <th>2</th>\n",
       "      <td>258.7047</td>\n",
       "      <td>1</td>\n",
       "      <td>308</td>\n",
       "    </tr>\n",
       "    <tr>\n",
       "      <th>3</th>\n",
       "      <td>250.8006</td>\n",
       "      <td>2</td>\n",
       "      <td>308</td>\n",
       "    </tr>\n",
       "    <tr>\n",
       "      <th>4</th>\n",
       "      <td>321.4398</td>\n",
       "      <td>3</td>\n",
       "      <td>308</td>\n",
       "    </tr>\n",
       "    <tr>\n",
       "      <th>5</th>\n",
       "      <td>356.8519</td>\n",
       "      <td>4</td>\n",
       "      <td>308</td>\n",
       "    </tr>\n",
       "  </tbody>\n",
       "</table>\n",
       "</div>"
      ],
      "text/plain": [
       "   Reaction  Days  Subject\n",
       "1  249.5600     0      308\n",
       "2  258.7047     1      308\n",
       "3  250.8006     2      308\n",
       "4  321.4398     3      308\n",
       "5  356.8519     4      308"
      ]
     },
     "execution_count": 39,
     "metadata": {},
     "output_type": "execute_result"
    }
   ],
   "source": [
    "sleep_df = data('sleepstudy')\n",
    "sleep_df.head()"
   ]
  },
  {
   "cell_type": "code",
   "execution_count": 45,
   "id": "a7b7a2ce",
   "metadata": {},
   "outputs": [
    {
     "data": {
      "text/plain": [
       "1      249.5600\n",
       "2      258.7047\n",
       "3      250.8006\n",
       "4      321.4398\n",
       "5      356.8519\n",
       "         ...   \n",
       "176    329.6076\n",
       "177    334.4818\n",
       "178    343.2199\n",
       "179    369.1417\n",
       "180    364.1236\n",
       "Name: Reaction, Length: 180, dtype: float64"
      ]
     },
     "execution_count": 45,
     "metadata": {},
     "output_type": "execute_result"
    }
   ],
   "source": [
    "sleep_series = sleep_df['Reaction']\n",
    "sleep_series"
   ]
  },
  {
   "cell_type": "code",
   "execution_count": 44,
   "id": "a5ebe8dd",
   "metadata": {},
   "outputs": [
    {
     "data": {
      "text/html": [
       "<div>\n",
       "<style scoped>\n",
       "    .dataframe tbody tr th:only-of-type {\n",
       "        vertical-align: middle;\n",
       "    }\n",
       "\n",
       "    .dataframe tbody tr th {\n",
       "        vertical-align: top;\n",
       "    }\n",
       "\n",
       "    .dataframe thead th {\n",
       "        text-align: right;\n",
       "    }\n",
       "</style>\n",
       "<table border=\"1\" class=\"dataframe\">\n",
       "  <thead>\n",
       "    <tr style=\"text-align: right;\">\n",
       "      <th></th>\n",
       "      <th>Reaction</th>\n",
       "    </tr>\n",
       "  </thead>\n",
       "  <tbody>\n",
       "    <tr>\n",
       "      <th>1</th>\n",
       "      <td>249.5600</td>\n",
       "    </tr>\n",
       "    <tr>\n",
       "      <th>2</th>\n",
       "      <td>258.7047</td>\n",
       "    </tr>\n",
       "    <tr>\n",
       "      <th>3</th>\n",
       "      <td>250.8006</td>\n",
       "    </tr>\n",
       "    <tr>\n",
       "      <th>4</th>\n",
       "      <td>321.4398</td>\n",
       "    </tr>\n",
       "    <tr>\n",
       "      <th>5</th>\n",
       "      <td>356.8519</td>\n",
       "    </tr>\n",
       "    <tr>\n",
       "      <th>...</th>\n",
       "      <td>...</td>\n",
       "    </tr>\n",
       "    <tr>\n",
       "      <th>176</th>\n",
       "      <td>329.6076</td>\n",
       "    </tr>\n",
       "    <tr>\n",
       "      <th>177</th>\n",
       "      <td>334.4818</td>\n",
       "    </tr>\n",
       "    <tr>\n",
       "      <th>178</th>\n",
       "      <td>343.2199</td>\n",
       "    </tr>\n",
       "    <tr>\n",
       "      <th>179</th>\n",
       "      <td>369.1417</td>\n",
       "    </tr>\n",
       "    <tr>\n",
       "      <th>180</th>\n",
       "      <td>364.1236</td>\n",
       "    </tr>\n",
       "  </tbody>\n",
       "</table>\n",
       "<p>180 rows × 1 columns</p>\n",
       "</div>"
      ],
      "text/plain": [
       "     Reaction\n",
       "1    249.5600\n",
       "2    258.7047\n",
       "3    250.8006\n",
       "4    321.4398\n",
       "5    356.8519\n",
       "..        ...\n",
       "176  329.6076\n",
       "177  334.4818\n",
       "178  343.2199\n",
       "179  369.1417\n",
       "180  364.1236\n",
       "\n",
       "[180 rows x 1 columns]"
      ]
     },
     "execution_count": 44,
     "metadata": {},
     "output_type": "execute_result"
    }
   ],
   "source": [
    "my_dataframe_that_resembles_a_series = sleep_df[['Reaction']]\n",
    "my_dataframe_that_resembles_a_series\n"
   ]
  },
  {
   "cell_type": "code",
   "execution_count": null,
   "id": "43336566",
   "metadata": {},
   "outputs": [],
   "source": [
    "# -------------- Vectorized Operations --------------- #"
   ]
  },
  {
   "cell_type": "code",
   "execution_count": 55,
   "id": "8f1cdd6e",
   "metadata": {},
   "outputs": [
    {
     "data": {
      "text/plain": [
       "0    1\n",
       "1    2\n",
       "2    2\n",
       "3    3\n",
       "4    4\n",
       "5    6\n",
       "6    9\n",
       "dtype: int64"
      ]
     },
     "execution_count": 55,
     "metadata": {},
     "output_type": "execute_result"
    }
   ],
   "source": [
    "fibi_series = pd.Series([0, 1, 1, 2, 3, 5, 8])\n",
    "fibi_series + 1"
   ]
  },
  {
   "cell_type": "code",
   "execution_count": 56,
   "id": "72a27de4",
   "metadata": {},
   "outputs": [
    {
     "data": {
      "text/plain": [
       "RangeIndex(start=0, stop=7, step=1)"
      ]
     },
     "execution_count": 56,
     "metadata": {},
     "output_type": "execute_result"
    }
   ],
   "source": [
    "fibi_series.index"
   ]
  },
  {
   "cell_type": "code",
   "execution_count": 57,
   "id": "61f2c6d4",
   "metadata": {},
   "outputs": [
    {
     "data": {
      "text/plain": [
       "array([0, 1, 1, 2, 3, 5, 8])"
      ]
     },
     "execution_count": 57,
     "metadata": {},
     "output_type": "execute_result"
    }
   ],
   "source": [
    "fibi_series.values # The values are stored in a NumPy array. Hello vectorized operations!"
   ]
  },
  {
   "cell_type": "code",
   "execution_count": 58,
   "id": "f62a5942",
   "metadata": {},
   "outputs": [
    {
     "data": {
      "text/plain": [
       "dtype('int64')"
      ]
     },
     "execution_count": 58,
     "metadata": {},
     "output_type": "execute_result"
    }
   ],
   "source": [
    "fibi_series.dtype"
   ]
  },
  {
   "cell_type": "code",
   "execution_count": 62,
   "id": "aec985c4",
   "metadata": {},
   "outputs": [],
   "source": [
    "fibi_series.name = 'Fibonacci'"
   ]
  },
  {
   "cell_type": "code",
   "execution_count": 60,
   "id": "e0b929c7",
   "metadata": {},
   "outputs": [
    {
     "data": {
      "text/plain": [
       "7"
      ]
     },
     "execution_count": 60,
     "metadata": {},
     "output_type": "execute_result"
    }
   ],
   "source": [
    "fibi_series.size #returns how many rows, including null values"
   ]
  },
  {
   "cell_type": "code",
   "execution_count": 61,
   "id": "991dc0aa",
   "metadata": {},
   "outputs": [
    {
     "data": {
      "text/plain": [
       "(7,)"
      ]
     },
     "execution_count": 61,
     "metadata": {},
     "output_type": "execute_result"
    }
   ],
   "source": [
    "fibi_series.shape #returns rows AND columns. (7, ) means this is a 1D structure"
   ]
  },
  {
   "cell_type": "code",
   "execution_count": null,
   "id": "7cdb0eae",
   "metadata": {},
   "outputs": [],
   "source": [
    "# ---------------- series method ----------------- #"
   ]
  },
  {
   "cell_type": "code",
   "execution_count": 63,
   "id": "ede61dae",
   "metadata": {},
   "outputs": [
    {
     "data": {
      "text/plain": [
       "0    0\n",
       "1    1\n",
       "2    1\n",
       "3    2\n",
       "4    3\n",
       "Name: Fibonacci, dtype: int64"
      ]
     },
     "execution_count": 63,
     "metadata": {},
     "output_type": "execute_result"
    }
   ],
   "source": [
    "fibi_series.head() #returns first 5 rows"
   ]
  },
  {
   "cell_type": "code",
   "execution_count": 64,
   "id": "eee690a4",
   "metadata": {},
   "outputs": [
    {
     "data": {
      "text/plain": [
       "2    1\n",
       "3    2\n",
       "4    3\n",
       "5    5\n",
       "6    8\n",
       "Name: Fibonacci, dtype: int64"
      ]
     },
     "execution_count": 64,
     "metadata": {},
     "output_type": "execute_result"
    }
   ],
   "source": [
    "fibi_series.tail() #returns last 5 rows"
   ]
  },
  {
   "cell_type": "code",
   "execution_count": 83,
   "id": "14a8d2ce",
   "metadata": {},
   "outputs": [
    {
     "data": {
      "text/plain": [
       "count    180.000000\n",
       "mean       4.500000\n",
       "std        2.880293\n",
       "min        0.000000\n",
       "25%        2.000000\n",
       "50%        4.500000\n",
       "75%        7.000000\n",
       "max        9.000000\n",
       "Name: Days, dtype: float64"
      ]
     },
     "execution_count": 83,
     "metadata": {},
     "output_type": "execute_result"
    }
   ],
   "source": [
    "sleep_df = data('sleepstudy')\n",
    "sleep_days_series = sleep_df.Days\n",
    "sleep_days_series.sample(5)"
   ]
  },
  {
   "cell_type": "code",
   "execution_count": 80,
   "id": "4797100f",
   "metadata": {},
   "outputs": [
    {
     "data": {
      "text/plain": [
       "Days\n",
       "0    18\n",
       "1    18\n",
       "2    18\n",
       "3    18\n",
       "4    18\n",
       "5    18\n",
       "6    18\n",
       "7    18\n",
       "8    18\n",
       "9    18\n",
       "Name: count, dtype: int64"
      ]
     },
     "execution_count": 80,
     "metadata": {},
     "output_type": "execute_result"
    }
   ],
   "source": [
    "sleep_days_series.value_counts()"
   ]
  },
  {
   "cell_type": "code",
   "execution_count": 84,
   "id": "d5b3ab77",
   "metadata": {},
   "outputs": [
    {
     "data": {
      "text/plain": [
       "count    180.000000\n",
       "mean       4.500000\n",
       "std        2.880293\n",
       "min        0.000000\n",
       "25%        2.000000\n",
       "50%        4.500000\n",
       "75%        7.000000\n",
       "max        9.000000\n",
       "Name: Days, dtype: float64"
      ]
     },
     "execution_count": 84,
     "metadata": {},
     "output_type": "execute_result"
    }
   ],
   "source": [
    "sleep_days_series.describe()"
   ]
  },
  {
   "cell_type": "code",
   "execution_count": 87,
   "id": "f738d329",
   "metadata": {},
   "outputs": [
    {
     "data": {
      "text/plain": [
       "6    8\n",
       "5    5\n",
       "4    3\n",
       "Name: Fibonacci, dtype: int64"
      ]
     },
     "execution_count": 87,
     "metadata": {},
     "output_type": "execute_result"
    }
   ],
   "source": [
    "fibi_series.nlargest(n=3, keep='first') #the 'keep='parameter determines how to handle the duplicate\n",
    "#first: only keep the first occurence\n",
    "#last: only keep the last occurence\n",
    "#all: keep all duplicates"
   ]
  },
  {
   "cell_type": "code",
   "execution_count": 91,
   "id": "e0b1e030",
   "metadata": {},
   "outputs": [
    {
     "data": {
      "text/plain": [
       "<bound method Series.sort_values of 1      0\n",
       "2      1\n",
       "3      2\n",
       "4      3\n",
       "5      4\n",
       "      ..\n",
       "176    5\n",
       "177    6\n",
       "178    7\n",
       "179    8\n",
       "180    9\n",
       "Name: Days, Length: 180, dtype: int64>"
      ]
     },
     "execution_count": 91,
     "metadata": {},
     "output_type": "execute_result"
    }
   ],
   "source": [
    "sleep_days_series.sort_values(ascending=True)# ascending = True is default and doesn't need to be included. "
   ]
  },
  {
   "cell_type": "code",
   "execution_count": 92,
   "id": "be5a30e2",
   "metadata": {},
   "outputs": [
    {
     "data": {
      "text/plain": [
       "180    9\n",
       "179    8\n",
       "178    7\n",
       "177    6\n",
       "176    5\n",
       "      ..\n",
       "5      4\n",
       "4      3\n",
       "3      2\n",
       "2      1\n",
       "1      0\n",
       "Name: Days, Length: 180, dtype: int64"
      ]
     },
     "execution_count": 92,
     "metadata": {},
     "output_type": "execute_result"
    }
   ],
   "source": [
    "sleep_days_series.sort_index(ascending=False)"
   ]
  },
  {
   "cell_type": "markdown",
   "id": "c0f76178",
   "metadata": {},
   "source": [
    "#  ---------------------------- EXCERCISES PART I ------------------------------ #"
   ]
  },
  {
   "cell_type": "code",
   "execution_count": 94,
   "id": "317fdf6b",
   "metadata": {},
   "outputs": [],
   "source": [
    "fruits = pd.Series([\"kiwi\", \"mango\", \"strawberry\", \"pineapple\", \"gala apple\", \"honeycrisp apple\", \"tomato\", \"watermelon\", \"honeydew\", \"kiwi\", \"kiwi\", \"kiwi\", \"mango\", \"blueberry\", \"blackberry\", \"gooseberry\", \"papaya\"])"
   ]
  },
  {
   "cell_type": "code",
   "execution_count": 95,
   "id": "af44a92a",
   "metadata": {},
   "outputs": [
    {
     "data": {
      "text/plain": [
       "17"
      ]
     },
     "execution_count": 95,
     "metadata": {},
     "output_type": "execute_result"
    }
   ],
   "source": [
    "# 1.Determine the number of elements in fruits.\n",
    "fruits.count()"
   ]
  },
  {
   "cell_type": "code",
   "execution_count": 97,
   "id": "b003345e",
   "metadata": {},
   "outputs": [
    {
     "data": {
      "text/plain": [
       "RangeIndex(start=0, stop=17, step=1)"
      ]
     },
     "execution_count": 97,
     "metadata": {},
     "output_type": "execute_result"
    }
   ],
   "source": [
    "# 2.Output only the index from fruits.\n",
    "fruits.index"
   ]
  },
  {
   "cell_type": "code",
   "execution_count": 98,
   "id": "9310cf5d",
   "metadata": {},
   "outputs": [
    {
     "data": {
      "text/plain": [
       "array(['kiwi', 'mango', 'strawberry', 'pineapple', 'gala apple',\n",
       "       'honeycrisp apple', 'tomato', 'watermelon', 'honeydew', 'kiwi',\n",
       "       'kiwi', 'kiwi', 'mango', 'blueberry', 'blackberry', 'gooseberry',\n",
       "       'papaya'], dtype=object)"
      ]
     },
     "execution_count": 98,
     "metadata": {},
     "output_type": "execute_result"
    }
   ],
   "source": [
    "# 3. Output only the values from fruits.\n",
    "fruits.values"
   ]
  },
  {
   "cell_type": "code",
   "execution_count": 99,
   "id": "21aae127",
   "metadata": {},
   "outputs": [
    {
     "data": {
      "text/plain": [
       "dtype('O')"
      ]
     },
     "execution_count": 99,
     "metadata": {},
     "output_type": "execute_result"
    }
   ],
   "source": [
    "# 4. Confirm the data type of the values in fruits.\n",
    "fruits.dtype"
   ]
  },
  {
   "cell_type": "code",
   "execution_count": 102,
   "id": "37b89a55",
   "metadata": {},
   "outputs": [
    {
     "data": {
      "text/plain": [
       "9      kiwi\n",
       "6    tomato\n",
       "dtype: object"
      ]
     },
     "execution_count": 102,
     "metadata": {},
     "output_type": "execute_result"
    }
   ],
   "source": [
    "# 5. Output only the first five values from fruits. Output the last three values. Output two random values from fruits.\n",
    "fruits.head()\n",
    "fruits.tail(3)\n",
    "fruits.sample(2)\n",
    "\n"
   ]
  },
  {
   "cell_type": "code",
   "execution_count": 103,
   "id": "c82167af",
   "metadata": {},
   "outputs": [
    {
     "data": {
      "text/plain": [
       "count       17\n",
       "unique      13\n",
       "top       kiwi\n",
       "freq         4\n",
       "dtype: object"
      ]
     },
     "execution_count": 103,
     "metadata": {},
     "output_type": "execute_result"
    }
   ],
   "source": [
    "# 6. Run the .describe() on fruits to see what information it returns when called on a Series with string values.\n",
    "fruits.describe()"
   ]
  },
  {
   "cell_type": "code",
   "execution_count": 105,
   "id": "fa69f04b",
   "metadata": {},
   "outputs": [
    {
     "data": {
      "text/plain": [
       "array(['kiwi', 'mango', 'strawberry', 'pineapple', 'gala apple',\n",
       "       'honeycrisp apple', 'tomato', 'watermelon', 'honeydew',\n",
       "       'blueberry', 'blackberry', 'gooseberry', 'papaya'], dtype=object)"
      ]
     },
     "execution_count": 105,
     "metadata": {},
     "output_type": "execute_result"
    }
   ],
   "source": [
    "# 7. Run the code necessary to produce only the unique string values from fruits.\n",
    "fruits.unique()"
   ]
  },
  {
   "cell_type": "code",
   "execution_count": 111,
   "id": "08355b6d",
   "metadata": {},
   "outputs": [
    {
     "data": {
      "text/plain": [
       "kiwi                4\n",
       "mango               2\n",
       "strawberry          1\n",
       "pineapple           1\n",
       "gala apple          1\n",
       "honeycrisp apple    1\n",
       "tomato              1\n",
       "watermelon          1\n",
       "honeydew            1\n",
       "blueberry           1\n",
       "blackberry          1\n",
       "gooseberry          1\n",
       "papaya              1\n",
       "Name: count, dtype: int64"
      ]
     },
     "execution_count": 111,
     "metadata": {},
     "output_type": "execute_result"
    }
   ],
   "source": [
    "# 8. Determine how many times each unique string value occurs in fruits.\n",
    "fruits.value_counts()"
   ]
  },
  {
   "cell_type": "code",
   "execution_count": 110,
   "id": "8125bea3",
   "metadata": {},
   "outputs": [
    {
     "data": {
      "text/plain": [
       "kiwi                4\n",
       "mango               2\n",
       "strawberry          1\n",
       "pineapple           1\n",
       "gala apple          1\n",
       "honeycrisp apple    1\n",
       "tomato              1\n",
       "watermelon          1\n",
       "honeydew            1\n",
       "blueberry           1\n",
       "blackberry          1\n",
       "gooseberry          1\n",
       "papaya              1\n",
       "Name: count, dtype: int64"
      ]
     },
     "execution_count": 110,
     "metadata": {},
     "output_type": "execute_result"
    }
   ],
   "source": [
    "# 9. Determine the string value that occurs most frequently in fruits.\n",
    "fruits.value_counts().sort_values (ascending = False)"
   ]
  },
  {
   "cell_type": "code",
   "execution_count": 112,
   "id": "0ac40f81",
   "metadata": {},
   "outputs": [
    {
     "data": {
      "text/plain": [
       "strawberry          1\n",
       "pineapple           1\n",
       "gala apple          1\n",
       "honeycrisp apple    1\n",
       "tomato              1\n",
       "watermelon          1\n",
       "honeydew            1\n",
       "blueberry           1\n",
       "blackberry          1\n",
       "gooseberry          1\n",
       "papaya              1\n",
       "mango               2\n",
       "kiwi                4\n",
       "Name: count, dtype: int64"
      ]
     },
     "execution_count": 112,
     "metadata": {},
     "output_type": "execute_result"
    }
   ],
   "source": [
    "# 10. Determine the string value that occurs least frequently in fruits.\n",
    "fruits.value_counts().sort_values (ascending = True)"
   ]
  },
  {
   "cell_type": "markdown",
   "id": "1f2cbd56",
   "metadata": {},
   "source": [
    "# -------------------------- NOTES: SERIES PART II ------------------------"
   ]
  },
  {
   "cell_type": "code",
   "execution_count": null,
   "id": "1d7ca63c",
   "metadata": {},
   "outputs": [],
   "source": []
  },
  {
   "cell_type": "code",
   "execution_count": null,
   "id": "116010ba",
   "metadata": {},
   "outputs": [],
   "source": []
  }
 ],
 "metadata": {
  "kernelspec": {
   "display_name": "Python 3 (ipykernel)",
   "language": "python",
   "name": "python3"
  },
  "language_info": {
   "codemirror_mode": {
    "name": "ipython",
    "version": 3
   },
   "file_extension": ".py",
   "mimetype": "text/x-python",
   "name": "python",
   "nbconvert_exporter": "python",
   "pygments_lexer": "ipython3",
   "version": "3.11.5"
  }
 },
 "nbformat": 4,
 "nbformat_minor": 5
}
