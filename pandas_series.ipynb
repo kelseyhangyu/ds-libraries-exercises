{
 "cells": [
  {
   "cell_type": "markdown",
   "id": "b3a2773b",
   "metadata": {},
   "source": [
    "# Lecture Notes #\n",
    "\n",
    "pandas: build off of numpy, but does different things\n",
    " - pd.Series() : can be arithmetic, comparison, string\n",
    "    - must have the same datatype\n",
    " - pd.df(): dataframes\n",
    "methods change the data, attributes describe the data\n",
    "Series: 0indexes, rows"
   ]
  },
  {
   "cell_type": "code",
   "execution_count": 25,
   "id": "12685f84",
   "metadata": {},
   "outputs": [],
   "source": [
    "a = np.array([1,1.5,5,7,8,9,5])\n"
   ]
  },
  {
   "cell_type": "code",
   "execution_count": 12,
   "id": "ef38f620",
   "metadata": {},
   "outputs": [],
   "source": [
    "import numpy as np\n",
    "import pandas as pd"
   ]
  },
  {
   "cell_type": "code",
   "execution_count": 26,
   "id": "3684de77",
   "metadata": {},
   "outputs": [],
   "source": [
    "a = pd.Series(a)"
   ]
  },
  {
   "cell_type": "code",
   "execution_count": 28,
   "id": "13cebd38",
   "metadata": {},
   "outputs": [
    {
     "data": {
      "text/plain": [
       "count    7.000000\n",
       "mean     5.214286\n",
       "std      3.080275\n",
       "min      1.000000\n",
       "25%      3.250000\n",
       "50%      5.000000\n",
       "75%      7.500000\n",
       "max      9.000000\n",
       "dtype: float64"
      ]
     },
     "execution_count": 28,
     "metadata": {},
     "output_type": "execute_result"
    }
   ],
   "source": [
    "a.describe()"
   ]
  },
  {
   "cell_type": "code",
   "execution_count": 22,
   "id": "9c4455e3",
   "metadata": {},
   "outputs": [
    {
     "data": {
      "text/plain": [
       "0    1.0\n",
       "1    1.5\n",
       "dtype: float64"
      ]
     },
     "execution_count": 22,
     "metadata": {},
     "output_type": "execute_result"
    }
   ],
   "source": [
    "a[a<5]"
   ]
  },
  {
   "cell_type": "code",
   "execution_count": 27,
   "id": "20a4985d",
   "metadata": {},
   "outputs": [
    {
     "data": {
      "text/plain": [
       "5.0    2\n",
       "1.0    1\n",
       "1.5    1\n",
       "7.0    1\n",
       "8.0    1\n",
       "9.0    1\n",
       "Name: count, dtype: int64"
      ]
     },
     "execution_count": 27,
     "metadata": {},
     "output_type": "execute_result"
    }
   ],
   "source": [
    "a.value_counts()"
   ]
  },
  {
   "cell_type": "code",
   "execution_count": 29,
   "id": "fe6ede51",
   "metadata": {},
   "outputs": [
    {
     "data": {
      "text/plain": [
       "7"
      ]
     },
     "execution_count": 29,
     "metadata": {},
     "output_type": "execute_result"
    }
   ],
   "source": [
    "a.count()"
   ]
  },
  {
   "cell_type": "code",
   "execution_count": 31,
   "id": "5c1e1788",
   "metadata": {},
   "outputs": [
    {
     "data": {
      "text/plain": [
       "4"
      ]
     },
     "execution_count": 31,
     "metadata": {},
     "output_type": "execute_result"
    }
   ],
   "source": [
    "a[a<7].count()"
   ]
  },
  {
   "cell_type": "code",
   "execution_count": null,
   "id": "36112c61",
   "metadata": {},
   "outputs": [],
   "source": [
    "a.apply(minus, args = [10])"
   ]
  },
  {
   "cell_type": "code",
   "execution_count": null,
   "id": "2bbf923d",
   "metadata": {},
   "outputs": [],
   "source": []
  },
  {
   "cell_type": "code",
   "execution_count": null,
   "id": "c1353d43",
   "metadata": {},
   "outputs": [],
   "source": []
  },
  {
   "cell_type": "code",
   "execution_count": null,
   "id": "ebc568ef",
   "metadata": {},
   "outputs": [],
   "source": []
  },
  {
   "cell_type": "code",
   "execution_count": null,
   "id": "575fc946",
   "metadata": {},
   "outputs": [],
   "source": []
  },
  {
   "cell_type": "code",
   "execution_count": null,
   "id": "9aba109f",
   "metadata": {},
   "outputs": [],
   "source": []
  },
  {
   "cell_type": "code",
   "execution_count": null,
   "id": "461a88c3",
   "metadata": {},
   "outputs": [],
   "source": []
  },
  {
   "cell_type": "code",
   "execution_count": null,
   "id": "79871a46",
   "metadata": {},
   "outputs": [],
   "source": []
  }
 ],
 "metadata": {
  "kernelspec": {
   "display_name": "Python 3 (ipykernel)",
   "language": "python",
   "name": "python3"
  },
  "language_info": {
   "codemirror_mode": {
    "name": "ipython",
    "version": 3
   },
   "file_extension": ".py",
   "mimetype": "text/x-python",
   "name": "python",
   "nbconvert_exporter": "python",
   "pygments_lexer": "ipython3",
   "version": "3.11.5"
  }
 },
 "nbformat": 4,
 "nbformat_minor": 5
}
